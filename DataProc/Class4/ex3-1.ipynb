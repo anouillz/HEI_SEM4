{
 "cells": [
  {
   "cell_type": "code",
   "id": "initial_id",
   "metadata": {
    "collapsed": true,
    "ExecuteTime": {
     "end_time": "2025-03-14T07:53:07.282227Z",
     "start_time": "2025-03-14T07:53:07.279537Z"
    }
   },
   "source": [
    "import pandas as pd\n",
    "import matplotlib.pyplot as plt\n",
    "import seaborn as sns"
   ],
   "outputs": [],
   "execution_count": 136
  },
  {
   "metadata": {
    "ExecuteTime": {
     "end_time": "2025-03-14T07:53:07.298554Z",
     "start_time": "2025-03-14T07:53:07.294790Z"
    }
   },
   "cell_type": "code",
   "source": "sns.set_theme()",
   "id": "d8ee4c5c23f49ea1",
   "outputs": [],
   "execution_count": 137
  },
  {
   "metadata": {
    "ExecuteTime": {
     "end_time": "2025-03-14T07:53:07.320054Z",
     "start_time": "2025-03-14T07:53:07.314794Z"
    }
   },
   "cell_type": "code",
   "source": "data = pd.read_csv('iris.csv')",
   "id": "57ff6c12a8e03a9c",
   "outputs": [],
   "execution_count": 138
  },
  {
   "metadata": {
    "ExecuteTime": {
     "end_time": "2025-03-14T07:53:07.348833Z",
     "start_time": "2025-03-14T07:53:07.335076Z"
    }
   },
   "cell_type": "code",
   "source": "data.head(10)",
   "id": "f3612e0a88eaa0cf",
   "outputs": [
    {
     "data": {
      "text/plain": [
       "   sepal.length  sepal.width  petal.length  petal.width variety\n",
       "0           5.1          3.5           1.4          0.2  Setosa\n",
       "1           4.9          3.0           1.4          0.2  Setosa\n",
       "2           4.7          3.2           1.3          0.2  Setosa\n",
       "3           4.6          3.1           1.5          0.2  Setosa\n",
       "4           5.0          3.6           1.4          0.2  Setosa\n",
       "5           5.4          3.9           1.7          0.4  Setosa\n",
       "6           4.6          3.4           1.4          0.3  Setosa\n",
       "7           5.0          3.4           1.5          0.2  Setosa\n",
       "8           4.4          2.9           1.4          0.2  Setosa\n",
       "9           4.9          3.1           1.5          0.1  Setosa"
      ],
      "text/html": [
       "<div>\n",
       "<style scoped>\n",
       "    .dataframe tbody tr th:only-of-type {\n",
       "        vertical-align: middle;\n",
       "    }\n",
       "\n",
       "    .dataframe tbody tr th {\n",
       "        vertical-align: top;\n",
       "    }\n",
       "\n",
       "    .dataframe thead th {\n",
       "        text-align: right;\n",
       "    }\n",
       "</style>\n",
       "<table border=\"1\" class=\"dataframe\">\n",
       "  <thead>\n",
       "    <tr style=\"text-align: right;\">\n",
       "      <th></th>\n",
       "      <th>sepal.length</th>\n",
       "      <th>sepal.width</th>\n",
       "      <th>petal.length</th>\n",
       "      <th>petal.width</th>\n",
       "      <th>variety</th>\n",
       "    </tr>\n",
       "  </thead>\n",
       "  <tbody>\n",
       "    <tr>\n",
       "      <th>0</th>\n",
       "      <td>5.1</td>\n",
       "      <td>3.5</td>\n",
       "      <td>1.4</td>\n",
       "      <td>0.2</td>\n",
       "      <td>Setosa</td>\n",
       "    </tr>\n",
       "    <tr>\n",
       "      <th>1</th>\n",
       "      <td>4.9</td>\n",
       "      <td>3.0</td>\n",
       "      <td>1.4</td>\n",
       "      <td>0.2</td>\n",
       "      <td>Setosa</td>\n",
       "    </tr>\n",
       "    <tr>\n",
       "      <th>2</th>\n",
       "      <td>4.7</td>\n",
       "      <td>3.2</td>\n",
       "      <td>1.3</td>\n",
       "      <td>0.2</td>\n",
       "      <td>Setosa</td>\n",
       "    </tr>\n",
       "    <tr>\n",
       "      <th>3</th>\n",
       "      <td>4.6</td>\n",
       "      <td>3.1</td>\n",
       "      <td>1.5</td>\n",
       "      <td>0.2</td>\n",
       "      <td>Setosa</td>\n",
       "    </tr>\n",
       "    <tr>\n",
       "      <th>4</th>\n",
       "      <td>5.0</td>\n",
       "      <td>3.6</td>\n",
       "      <td>1.4</td>\n",
       "      <td>0.2</td>\n",
       "      <td>Setosa</td>\n",
       "    </tr>\n",
       "    <tr>\n",
       "      <th>5</th>\n",
       "      <td>5.4</td>\n",
       "      <td>3.9</td>\n",
       "      <td>1.7</td>\n",
       "      <td>0.4</td>\n",
       "      <td>Setosa</td>\n",
       "    </tr>\n",
       "    <tr>\n",
       "      <th>6</th>\n",
       "      <td>4.6</td>\n",
       "      <td>3.4</td>\n",
       "      <td>1.4</td>\n",
       "      <td>0.3</td>\n",
       "      <td>Setosa</td>\n",
       "    </tr>\n",
       "    <tr>\n",
       "      <th>7</th>\n",
       "      <td>5.0</td>\n",
       "      <td>3.4</td>\n",
       "      <td>1.5</td>\n",
       "      <td>0.2</td>\n",
       "      <td>Setosa</td>\n",
       "    </tr>\n",
       "    <tr>\n",
       "      <th>8</th>\n",
       "      <td>4.4</td>\n",
       "      <td>2.9</td>\n",
       "      <td>1.4</td>\n",
       "      <td>0.2</td>\n",
       "      <td>Setosa</td>\n",
       "    </tr>\n",
       "    <tr>\n",
       "      <th>9</th>\n",
       "      <td>4.9</td>\n",
       "      <td>3.1</td>\n",
       "      <td>1.5</td>\n",
       "      <td>0.1</td>\n",
       "      <td>Setosa</td>\n",
       "    </tr>\n",
       "  </tbody>\n",
       "</table>\n",
       "</div>"
      ]
     },
     "execution_count": 139,
     "metadata": {},
     "output_type": "execute_result"
    }
   ],
   "execution_count": 139
  },
  {
   "metadata": {
    "ExecuteTime": {
     "end_time": "2025-03-14T07:53:07.398650Z",
     "start_time": "2025-03-14T07:53:07.394710Z"
    }
   },
   "cell_type": "code",
   "source": [
    "# overall mean sepal length\n",
    "sepal_mean = data['sepal.length'].mean()\n",
    "data = data.loc[data['sepal.length'] > sepal_mean]"
   ],
   "id": "ae3b4ca7fa482d84",
   "outputs": [],
   "execution_count": 140
  },
  {
   "metadata": {
    "ExecuteTime": {
     "end_time": "2025-03-14T07:53:07.458886Z",
     "start_time": "2025-03-14T07:53:07.449624Z"
    }
   },
   "cell_type": "code",
   "source": [
    "# counts of sepal length greater than sepal length mean\n",
    "data['sepal.length'].count()\n",
    "mean_sepal = data.groupby('variety')['sepal.length'].count()\n",
    "mean_sepal"
   ],
   "id": "d0538d3b33851b2b",
   "outputs": [
    {
     "data": {
      "text/plain": [
       "variety\n",
       "Versicolor    26\n",
       "Virginica     44\n",
       "Name: sepal.length, dtype: int64"
      ]
     },
     "execution_count": 141,
     "metadata": {},
     "output_type": "execute_result"
    }
   ],
   "execution_count": 141
  },
  {
   "metadata": {
    "ExecuteTime": {
     "end_time": "2025-03-14T07:53:07.690173Z",
     "start_time": "2025-03-14T07:53:07.506603Z"
    }
   },
   "cell_type": "code",
   "source": [
    "# bar plot\n",
    "plt.figure(figsize=(6,4))\n",
    "sns.barplot(x='variety', y='sepal.length', data=data)\n",
    "\n",
    "plt.xlabel('Variety')\n",
    "plt.ylabel('Sepal Length')\n",
    "plt.title('Sepal Length by Variety')\n",
    "\n",
    "plt.show()"
   ],
   "id": "30c168eab4670edf",
   "outputs": [
    {
     "data": {
      "text/plain": [
       "<Figure size 600x400 with 1 Axes>"
      ],
      "image/png": "[encoded data removed]"
     },
     "metadata": {},
     "output_type": "display_data"
    }
   ],
   "execution_count": 142
  },
  {
   "metadata": {
    "ExecuteTime": {
     "end_time": "2025-03-14T07:53:07.848794Z",
     "start_time": "2025-03-14T07:53:07.728824Z"
    }
   },
   "cell_type": "code",
   "source": [
    "# error bar plot with standard deviation\n",
    "\n",
    "means = data.groupby('variety')['sepal.length'].mean()\n",
    "stds = data.groupby('variety')['sepal.length'].std()\n",
    "plt.figure(figsize=(6,4))\n",
    "sns.barplot(x='variety', y='sepal.length', data=data, errorbar='sd')\n",
    "\n",
    "# add error bars\n",
    "plt.errorbar(x=mean_sepal.index, y=mean_sepal, yerr=data.groupby('variety')['sepal.length'].std(), fmt='o', color='black')\n",
    "\n",
    "plt.xlabel('Variety')\n",
    "plt.ylabel('Sepal Length')\n",
    "plt.title('Sepal Length by Variety')\n",
    "\n",
    "plt.show()\n"
   ],
   "id": "d021c7290ecf0d47",
   "outputs": [
    {
     "data": {
      "text/plain": [
       "<Figure size 600x400 with 1 Axes>"
      ],
      "image/png": "[encoded data removed]"
     },
     "metadata": {},
     "output_type": "display_data"
    }
   ],
   "execution_count": 143
  }
 ],
 "metadata": {
  "kernelspec": {
   "display_name": "Python 3",
   "language": "python",
   "name": "python3"
  },
  "language_info": {
   "codemirror_mode": {
    "name": "ipython",
    "version": 2
   },
   "file_extension": ".py",
   "mimetype": "text/x-python",
   "name": "python",
   "nbconvert_exporter": "python",
   "pygments_lexer": "ipython2",
   "version": "2.7.6"
  }
 },
 "nbformat": 4,
 "nbformat_minor": 5
}
