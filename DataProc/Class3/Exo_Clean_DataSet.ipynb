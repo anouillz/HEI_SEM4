{
 "cells": [
  {
   "cell_type": "code",
   "id": "initial_id",
   "metadata": {
    "collapsed": true,
    "ExecuteTime": {
     "end_time": "2025-03-07T08:36:28.258736Z",
     "start_time": "2025-03-07T08:36:28.253279Z"
    }
   },
   "source": [
    "import numpy as np\n",
    "import matplotlib as plt\n",
    "import pandas as pd"
   ],
   "outputs": [],
   "execution_count": 126
  },
  {
   "metadata": {
    "ExecuteTime": {
     "end_time": "2025-03-07T08:36:28.272646Z",
     "start_time": "2025-03-07T08:36:28.268119Z"
    }
   },
   "cell_type": "code",
   "source": [
    "# load df\n",
    "data = pd.read_csv('data_section2/iris_to_clean.csv')\n",
    "# 154 rows"
   ],
   "id": "aa75224ba9503c13",
   "outputs": [],
   "execution_count": 127
  },
  {
   "metadata": {
    "ExecuteTime": {
     "end_time": "2025-03-07T08:36:28.299739Z",
     "start_time": "2025-03-07T08:36:28.293355Z"
    }
   },
   "cell_type": "code",
   "source": [
    "# inspect duplicated values\n",
    "col = 'measurement.number'\n",
    "print(f'Number of duplicates in {col}: {data.duplicated(col).sum()}')\n",
    "print(f'Number of duplicates in entire df: {data.duplicated().sum()}')"
   ],
   "id": "f0a9fc38b303d015",
   "outputs": [
    {
     "name": "stdout",
     "output_type": "stream",
     "text": [
      "Number of duplicates in measurement.number: 4\n",
      "Number of duplicates in entire df: 4\n"
     ]
    }
   ],
   "execution_count": 128
  },
  {
   "metadata": {
    "ExecuteTime": {
     "end_time": "2025-03-07T08:36:28.326001Z",
     "start_time": "2025-03-07T08:36:28.319752Z"
    }
   },
   "cell_type": "code",
   "source": [
    "# delete duplicates\n",
    "data = data.drop_duplicates()\n",
    "# or data.drop_duplicates(inplace=True)\n",
    "# 150 rows"
   ],
   "id": "42e22f9d56c9f162",
   "outputs": [],
   "execution_count": 129
  },
  {
   "metadata": {
    "ExecuteTime": {
     "end_time": "2025-03-07T08:36:28.345459Z",
     "start_time": "2025-03-07T08:36:28.342581Z"
    }
   },
   "cell_type": "code",
   "source": [
    "# create df with missing values\n",
    "missing_values = data.isnull()"
   ],
   "id": "1369865f17cff67b",
   "outputs": [],
   "execution_count": 130
  },
  {
   "metadata": {
    "ExecuteTime": {
     "end_time": "2025-03-07T08:36:28.370352Z",
     "start_time": "2025-03-07T08:36:28.364844Z"
    }
   },
   "cell_type": "code",
   "source": [
    "# sort by missing values \n",
    "missing_values.sum().sort_values(ascending=False)"
   ],
   "id": "4c8253ac87c9842d",
   "outputs": [
    {
     "data": {
      "text/plain": [
       "petal.length          2\n",
       "sepal.width           1\n",
       "sepal.length          0\n",
       "measurement.number    0\n",
       "petal.width           0\n",
       "variety               0\n",
       "dtype: int64"
      ]
     },
     "execution_count": 131,
     "metadata": {},
     "output_type": "execute_result"
    }
   ],
   "execution_count": 131
  },
  {
   "metadata": {
    "ExecuteTime": {
     "end_time": "2025-03-07T08:36:28.434075Z",
     "start_time": "2025-03-07T08:36:28.423413Z"
    }
   },
   "cell_type": "code",
   "source": [
    "# show rows with missing values \n",
    "data[missing_values.any(axis=1)].head()"
   ],
   "id": "1a1c2069d58249bd",
   "outputs": [
    {
     "data": {
      "text/plain": [
       "     measurement.number  sepal.length  sepal.width  petal.length  petal.width  \\\n",
       "26                   27           5.0          NaN           1.6          0.4   \n",
       "36                   37           5.5          3.5           NaN          0.2   \n",
       "134                 131           7.4          2.8           NaN          1.9   \n",
       "\n",
       "       variety  \n",
       "26      Setosa  \n",
       "36      Setosa  \n",
       "134  Virginica  "
      ],
      "text/html": [
       "<div>\n",
       "<style scoped>\n",
       "    .dataframe tbody tr th:only-of-type {\n",
       "        vertical-align: middle;\n",
       "    }\n",
       "\n",
       "    .dataframe tbody tr th {\n",
       "        vertical-align: top;\n",
       "    }\n",
       "\n",
       "    .dataframe thead th {\n",
       "        text-align: right;\n",
       "    }\n",
       "</style>\n",
       "<table border=\"1\" class=\"dataframe\">\n",
       "  <thead>\n",
       "    <tr style=\"text-align: right;\">\n",
       "      <th></th>\n",
       "      <th>measurement.number</th>\n",
       "      <th>sepal.length</th>\n",
       "      <th>sepal.width</th>\n",
       "      <th>petal.length</th>\n",
       "      <th>petal.width</th>\n",
       "      <th>variety</th>\n",
       "    </tr>\n",
       "  </thead>\n",
       "  <tbody>\n",
       "    <tr>\n",
       "      <th>26</th>\n",
       "      <td>27</td>\n",
       "      <td>5.0</td>\n",
       "      <td>NaN</td>\n",
       "      <td>1.6</td>\n",
       "      <td>0.4</td>\n",
       "      <td>Setosa</td>\n",
       "    </tr>\n",
       "    <tr>\n",
       "      <th>36</th>\n",
       "      <td>37</td>\n",
       "      <td>5.5</td>\n",
       "      <td>3.5</td>\n",
       "      <td>NaN</td>\n",
       "      <td>0.2</td>\n",
       "      <td>Setosa</td>\n",
       "    </tr>\n",
       "    <tr>\n",
       "      <th>134</th>\n",
       "      <td>131</td>\n",
       "      <td>7.4</td>\n",
       "      <td>2.8</td>\n",
       "      <td>NaN</td>\n",
       "      <td>1.9</td>\n",
       "      <td>Virginica</td>\n",
       "    </tr>\n",
       "  </tbody>\n",
       "</table>\n",
       "</div>"
      ]
     },
     "execution_count": 132,
     "metadata": {},
     "output_type": "execute_result"
    }
   ],
   "execution_count": 132
  },
  {
   "metadata": {
    "ExecuteTime": {
     "end_time": "2025-03-07T08:36:28.508355Z",
     "start_time": "2025-03-07T08:36:28.500493Z"
    }
   },
   "cell_type": "code",
   "source": [
    "# calculate missing values percentage per column\n",
    "missing_values.mean().sort_values(ascending=False)"
   ],
   "id": "891768fde68f405d",
   "outputs": [
    {
     "data": {
      "text/plain": [
       "petal.length          0.013333\n",
       "sepal.width           0.006667\n",
       "sepal.length          0.000000\n",
       "measurement.number    0.000000\n",
       "petal.width           0.000000\n",
       "variety               0.000000\n",
       "dtype: float64"
      ]
     },
     "execution_count": 133,
     "metadata": {},
     "output_type": "execute_result"
    }
   ],
   "execution_count": 133
  },
  {
   "metadata": {
    "ExecuteTime": {
     "end_time": "2025-03-07T08:36:28.605082Z",
     "start_time": "2025-03-07T08:36:28.600297Z"
    }
   },
   "cell_type": "code",
   "source": [
    "# print percentage of missing values per column\n",
    "print('Percentage of missing values per column :')\n",
    "for col in data.columns:\n",
    "    pct_missing = data[col].isnull().mean()\n",
    "    print(f'{col} - {pct_missing:.2%}')"
   ],
   "id": "4985cebc805f6d66",
   "outputs": [
    {
     "name": "stdout",
     "output_type": "stream",
     "text": [
      "Percentage of missing values per column :\n",
      "measurement.number - 0.00%\n",
      "sepal.length - 0.00%\n",
      "sepal.width - 0.67%\n",
      "petal.length - 1.33%\n",
      "petal.width - 0.00%\n",
      "variety - 0.00%\n"
     ]
    }
   ],
   "execution_count": 134
  },
  {
   "metadata": {
    "ExecuteTime": {
     "end_time": "2025-03-07T08:36:28.686866Z",
     "start_time": "2025-03-07T08:36:28.683254Z"
    }
   },
   "cell_type": "code",
   "source": [
    "# drop rows with missing values\n",
    "data.dropna(inplace=True)\n",
    "# 147 rows"
   ],
   "id": "b32e53f8aaa20faa",
   "outputs": [],
   "execution_count": 135
  },
  {
   "metadata": {
    "ExecuteTime": {
     "end_time": "2025-03-07T08:36:28.732061Z",
     "start_time": "2025-03-07T08:36:28.720504Z"
    }
   },
   "cell_type": "code",
   "source": [
    "# find outliers for each column\n",
    "for col in ['sepal.length','sepal.width','petal.length','petal.width']: \n",
    "    q1 = data[col].quantile(0.25)\n",
    "    q2 = data[col].quantile(0.75)\n",
    "    # median\n",
    "    median = data[col].quantile(0.5)\n",
    "    iqr = q2 - q1\n",
    "    # lower and upper bounds\n",
    "    lower_bound = q1 - 1.5*iqr\n",
    "    upper_bound = q2 + 1.5*iqr\n",
    "    \n",
    "    # find outliers\n",
    "    outliers = (data[col] < lower_bound) | (data[col] > upper_bound)\n",
    "    print(f'Column {col} has {outliers.sum()} outliers')\n",
    "\n",
    "    \n",
    "    # remove outliers\n",
    "    data_cleaned = data[~outliers]\n",
    "    # 146 rows"
   ],
   "id": "4f11a657bfb7bf3",
   "outputs": [
    {
     "name": "stdout",
     "output_type": "stream",
     "text": [
      "Column sepal.length has 1 outliers\n",
      "Column sepal.width has 5 outliers\n",
      "Column petal.length has 1 outliers\n",
      "Column petal.width has 1 outliers\n"
     ]
    }
   ],
   "execution_count": 136
  }
 ],
 "metadata": {
  "kernelspec": {
   "display_name": "Python 3",
   "language": "python",
   "name": "python3"
  },
  "language_info": {
   "codemirror_mode": {
    "name": "ipython",
    "version": 2
   },
   "file_extension": ".py",
   "mimetype": "text/x-python",
   "name": "python",
   "nbconvert_exporter": "python",
   "pygments_lexer": "ipython2",
   "version": "2.7.6"
  }
 },
 "nbformat": 4,
 "nbformat_minor": 5
}
