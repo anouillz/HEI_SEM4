{
 "cells": [
  {
   "cell_type": "code",
   "execution_count": null,
   "id": "initial_id",
   "metadata": {
    "collapsed": true
   },
   "outputs": [],
   "source": [
    "import pandas as pd\n",
    "from dash import Dash, html, dcc\n",
    "import plotly.express as px"
   ]
  },
  {
   "metadata": {},
   "cell_type": "code",
   "outputs": [],
   "execution_count": null,
   "source": [
    "# load data\n",
    "df = pd.read_csv('cantons_data.csv')\n",
    "geojson_path = 'https://raw.githubusercontent.com/empet/Datasets/master/swiss-cantons.geojson'\n"
   ],
   "id": "163de972425d495"
  },
  {
   "metadata": {},
   "cell_type": "code",
   "outputs": [],
   "execution_count": null,
   "source": [
    "# fig main \n",
    "fig = px.choropleth(df,\n",
    "                    locations='canton',\n",
    "                    color='population',\n",
    "                    geojson=geojson_path,\n",
    "                    projection='natural earth',\n",
    "                    featureidkey='properties.id',\n",
    "                    title=\"Swiss Cantons by Population\")\n",
    "\n",
    "# to have only swiss map\n",
    "fig.update_geos(fitbounds='locations', visible=True)\n"
   ],
   "id": "a4101cf1b65af5b0"
  },
  {
   "metadata": {
    "ExecuteTime": {
     "end_time": "2025-03-21T10:41:47.237279Z",
     "start_time": "2025-03-21T10:41:46.982650Z"
    }
   },
   "cell_type": "code",
   "source": [
    "# fig buttons\n",
    "\n",
    "buttons = [\n",
    "    dict(\n",
    "        args=[{\"z\": [df['population']],\n",
    "                \"colorbar.title.text\": \"Population\",\n",
    "                \"colorscale\": 'viridis',\n",
    "                \"colorbar.tickvals\": [0, max(df['population']) / 2, max(df['population'])]},\n",
    "                {\"title\":'Population by canton'}                    \n",
    "                ],\n",
    "        label=\"Population\",\n",
    "        method=\"update\",\n",
    "    \n",
    "    ),\n",
    "    dict(\n",
    "        args=[{\"z\": [df['area']],\n",
    "                \"colorbar.title.text\": \"Area\",\n",
    "                \"colorscale\": 'viridis',\n",
    "                \"colorbar.tickvals\": [0, max(df['area']) / 2, max(df['area'])]},\n",
    "                {\"title\":'Area of canton'}                    \n",
    "                ],\n",
    "        label=\"Area\",\n",
    "        method=\"update\"\n",
    "    )\n",
    "]\n",
    "\n",
    "# update layout\n",
    "fig.update_layout(updatemenus=[dict(type=\"buttons\",\n",
    "                                    direction=\"right\",\n",
    "                                    x=0.8,\n",
    "                                    y=1.15,\n",
    "                                    showactive=True,\n",
    "                                    buttons=buttons)],\n",
    "                                    title='Population by canton',\n",
    "                                    title_x=0.3, # Move the title \n",
    "                                    coloraxis_colorbar=dict(x=0.8)) # Move the colorbar\n",
    "                                    \n"
   ],
   "id": "840fb44c78702947",
   "outputs": [
    {
     "ename": "NameError",
     "evalue": "name 'df' is not defined",
     "output_type": "error",
     "traceback": [
      "\u001B[0;31m---------------------------------------------------------------------------\u001B[0m",
      "\u001B[0;31mNameError\u001B[0m                                 Traceback (most recent call last)",
      "Cell \u001B[0;32mIn[1], line 5\u001B[0m\n\u001B[1;32m      1\u001B[0m \u001B[38;5;66;03m# fig buttons\u001B[39;00m\n\u001B[1;32m      3\u001B[0m buttons \u001B[38;5;241m=\u001B[39m [\n\u001B[1;32m      4\u001B[0m     \u001B[38;5;28mdict\u001B[39m(\n\u001B[0;32m----> 5\u001B[0m         args\u001B[38;5;241m=\u001B[39m[{\u001B[38;5;124m\"\u001B[39m\u001B[38;5;124mz\u001B[39m\u001B[38;5;124m\"\u001B[39m: [\u001B[43mdf\u001B[49m[\u001B[38;5;124m'\u001B[39m\u001B[38;5;124mpopulation\u001B[39m\u001B[38;5;124m'\u001B[39m]],\n\u001B[1;32m      6\u001B[0m                 \u001B[38;5;124m\"\u001B[39m\u001B[38;5;124mcolorbar.title.text\u001B[39m\u001B[38;5;124m\"\u001B[39m: \u001B[38;5;124m\"\u001B[39m\u001B[38;5;124mPopulation\u001B[39m\u001B[38;5;124m\"\u001B[39m,\n\u001B[1;32m      7\u001B[0m                 \u001B[38;5;124m\"\u001B[39m\u001B[38;5;124mcolorscale\u001B[39m\u001B[38;5;124m\"\u001B[39m: \u001B[38;5;124m'\u001B[39m\u001B[38;5;124mviridis\u001B[39m\u001B[38;5;124m'\u001B[39m,\n\u001B[1;32m      8\u001B[0m                 \u001B[38;5;124m\"\u001B[39m\u001B[38;5;124mcolorbar.tickvals\u001B[39m\u001B[38;5;124m\"\u001B[39m: [\u001B[38;5;241m0\u001B[39m, \u001B[38;5;28mmax\u001B[39m(df[\u001B[38;5;124m'\u001B[39m\u001B[38;5;124mpopulation\u001B[39m\u001B[38;5;124m'\u001B[39m]) \u001B[38;5;241m/\u001B[39m \u001B[38;5;241m2\u001B[39m, \u001B[38;5;28mmax\u001B[39m(df[\u001B[38;5;124m'\u001B[39m\u001B[38;5;124mpopulation\u001B[39m\u001B[38;5;124m'\u001B[39m])]},\n\u001B[1;32m      9\u001B[0m                 {\u001B[38;5;124m\"\u001B[39m\u001B[38;5;124mtitle\u001B[39m\u001B[38;5;124m\"\u001B[39m:\u001B[38;5;124m'\u001B[39m\u001B[38;5;124mPopulation by canton\u001B[39m\u001B[38;5;124m'\u001B[39m}                    \n\u001B[1;32m     10\u001B[0m                 ],\n\u001B[1;32m     11\u001B[0m         label\u001B[38;5;241m=\u001B[39m\u001B[38;5;124m\"\u001B[39m\u001B[38;5;124mPopulation\u001B[39m\u001B[38;5;124m\"\u001B[39m,\n\u001B[1;32m     12\u001B[0m         method\u001B[38;5;241m=\u001B[39m\u001B[38;5;124m\"\u001B[39m\u001B[38;5;124mupdate\u001B[39m\u001B[38;5;124m\"\u001B[39m,\n\u001B[1;32m     13\u001B[0m     \n\u001B[1;32m     14\u001B[0m     ),\n\u001B[1;32m     15\u001B[0m     \u001B[38;5;28mdict\u001B[39m(\n\u001B[1;32m     16\u001B[0m         args\u001B[38;5;241m=\u001B[39m[{\u001B[38;5;124m\"\u001B[39m\u001B[38;5;124mz\u001B[39m\u001B[38;5;124m\"\u001B[39m: [df[\u001B[38;5;124m'\u001B[39m\u001B[38;5;124marea\u001B[39m\u001B[38;5;124m'\u001B[39m]],\n\u001B[1;32m     17\u001B[0m                 \u001B[38;5;124m\"\u001B[39m\u001B[38;5;124mcolorbar.title.text\u001B[39m\u001B[38;5;124m\"\u001B[39m: \u001B[38;5;124m\"\u001B[39m\u001B[38;5;124mArea\u001B[39m\u001B[38;5;124m\"\u001B[39m,\n\u001B[1;32m     18\u001B[0m                 \u001B[38;5;124m\"\u001B[39m\u001B[38;5;124mcolorscale\u001B[39m\u001B[38;5;124m\"\u001B[39m: \u001B[38;5;124m'\u001B[39m\u001B[38;5;124mviridis\u001B[39m\u001B[38;5;124m'\u001B[39m,\n\u001B[1;32m     19\u001B[0m                 \u001B[38;5;124m\"\u001B[39m\u001B[38;5;124mcolorbar.tickvals\u001B[39m\u001B[38;5;124m\"\u001B[39m: [\u001B[38;5;241m0\u001B[39m, \u001B[38;5;28mmax\u001B[39m(df[\u001B[38;5;124m'\u001B[39m\u001B[38;5;124marea\u001B[39m\u001B[38;5;124m'\u001B[39m]) \u001B[38;5;241m/\u001B[39m \u001B[38;5;241m2\u001B[39m, \u001B[38;5;28mmax\u001B[39m(df[\u001B[38;5;124m'\u001B[39m\u001B[38;5;124marea\u001B[39m\u001B[38;5;124m'\u001B[39m])]},\n\u001B[1;32m     20\u001B[0m                 {\u001B[38;5;124m\"\u001B[39m\u001B[38;5;124mtitle\u001B[39m\u001B[38;5;124m\"\u001B[39m:\u001B[38;5;124m'\u001B[39m\u001B[38;5;124mArea of canton\u001B[39m\u001B[38;5;124m'\u001B[39m}                    \n\u001B[1;32m     21\u001B[0m                 ],\n\u001B[1;32m     22\u001B[0m         label\u001B[38;5;241m=\u001B[39m\u001B[38;5;124m\"\u001B[39m\u001B[38;5;124mArea\u001B[39m\u001B[38;5;124m\"\u001B[39m,\n\u001B[1;32m     23\u001B[0m         method\u001B[38;5;241m=\u001B[39m\u001B[38;5;124m\"\u001B[39m\u001B[38;5;124mupdate\u001B[39m\u001B[38;5;124m\"\u001B[39m\n\u001B[1;32m     24\u001B[0m     )\n\u001B[1;32m     25\u001B[0m ]\n\u001B[1;32m     27\u001B[0m \u001B[38;5;66;03m# update layout\u001B[39;00m\n\u001B[1;32m     28\u001B[0m fig\u001B[38;5;241m.\u001B[39mupdate_layout(updatemenus\u001B[38;5;241m=\u001B[39m[\u001B[38;5;28mdict\u001B[39m(\u001B[38;5;28mtype\u001B[39m\u001B[38;5;241m=\u001B[39m\u001B[38;5;124m\"\u001B[39m\u001B[38;5;124mbuttons\u001B[39m\u001B[38;5;124m\"\u001B[39m,\n\u001B[1;32m     29\u001B[0m                                     direction\u001B[38;5;241m=\u001B[39m\u001B[38;5;124m\"\u001B[39m\u001B[38;5;124mright\u001B[39m\u001B[38;5;124m\"\u001B[39m,\n\u001B[1;32m     30\u001B[0m                                     x\u001B[38;5;241m=\u001B[39m\u001B[38;5;241m0.8\u001B[39m,\n\u001B[0;32m   (...)\u001B[0m\n\u001B[1;32m     35\u001B[0m                                     title_x\u001B[38;5;241m=\u001B[39m\u001B[38;5;241m0.3\u001B[39m, \u001B[38;5;66;03m# Move the title \u001B[39;00m\n\u001B[1;32m     36\u001B[0m                                     coloraxis_colorbar\u001B[38;5;241m=\u001B[39m\u001B[38;5;28mdict\u001B[39m(x\u001B[38;5;241m=\u001B[39m\u001B[38;5;241m0.8\u001B[39m)) \u001B[38;5;66;03m# Move the colorbar\u001B[39;00m\n",
      "\u001B[0;31mNameError\u001B[0m: name 'df' is not defined"
     ]
    }
   ],
   "execution_count": 1
  },
  {
   "metadata": {},
   "cell_type": "code",
   "outputs": [],
   "execution_count": null,
   "source": [
    "# initialize the app\n",
    "app = Dash(__name__)"
   ],
   "id": "ef467e88cf9b28bb"
  },
  {
   "metadata": {},
   "cell_type": "code",
   "outputs": [],
   "execution_count": null,
   "source": [
    "# app layout\n",
    "app.layout = html.Div([\n",
    "    html.Div(children=\"Swiss Cantons by Population\", style={'textAlign': 'center'}),\n",
    "    dcc.Graph(\n",
    "        id = 'choropleth',\n",
    "        figure=fig\n",
    "    )\n",
    "])"
   ],
   "id": "561542b694300555"
  },
  {
   "metadata": {},
   "cell_type": "code",
   "outputs": [],
   "execution_count": null,
   "source": [
    "# controls and interactions\n",
    "@app.callback(\n",
    "    Output(component_id='choropleth', component_property='figure'),\n",
    "    Input(component_id='dropdown', component_property='value')\n",
    ")"
   ],
   "id": "c7c8c7f8b3a23174"
  }
 ],
 "metadata": {
  "kernelspec": {
   "display_name": "Python 3",
   "language": "python",
   "name": "python3"
  },
  "language_info": {
   "codemirror_mode": {
    "name": "ipython",
    "version": 2
   },
   "file_extension": ".py",
   "mimetype": "text/x-python",
   "name": "python",
   "nbconvert_exporter": "python",
   "pygments_lexer": "ipython2",
   "version": "2.7.6"
  }
 },
 "nbformat": 4,
 "nbformat_minor": 5
}
